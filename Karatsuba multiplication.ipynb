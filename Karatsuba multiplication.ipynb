{
 "cells": [
  {
   "cell_type": "markdown",
   "metadata": {},
   "source": [
    "## Karatsuba Mulplication"
   ]
  },
  {
   "cell_type": "code",
   "execution_count": 34,
   "metadata": {},
   "outputs": [],
   "source": [
    "def fdigit(x):\n",
    "    digit = 1\n",
    "    while x >= 10:\n",
    "        x = x // 10\n",
    "        digit += 1\n",
    "    \n",
    "    return digit"
   ]
  },
  {
   "cell_type": "code",
   "execution_count": 43,
   "metadata": {},
   "outputs": [],
   "source": [
    "def fhalf(x, n):\n",
    "    \n",
    "    if n % 2 == 0:\n",
    "        halfdg = int(n / 2)\n",
    "    else:\n",
    "        halfdg = int((n+1) / 2)\n",
    "    \n",
    "    left = x // (10**(halfdg))\n",
    "    right = x % (10**(halfdg))\n",
    "    return left, right"
   ]
  },
  {
   "cell_type": "code",
   "execution_count": 46,
   "metadata": {},
   "outputs": [
    {
     "name": "stdout",
     "output_type": "stream",
     "text": [
      "29380676160\n"
     ]
    }
   ],
   "source": [
    "def kmulti(x, y):\n",
    "    \n",
    "    n = max(fdigit(x), fdigit(y))\n",
    "    \n",
    "    if n == 1:\n",
    "        return x*y\n",
    "    else:      \n",
    "        l_half1, r_half1 = fhalf(x, n)\n",
    "        l_half2, r_half2 = fhalf(y, n)\n",
    "        \n",
    "        a = kmulti(l_half1, l_half2)\n",
    "        b = kmulti(r_half1, r_half2)\n",
    "        c = kmulti((l_half1 + r_half1), (l_half2 + r_half2))\n",
    "        d = c - b - a\n",
    "    \n",
    "    if n % 2 != 0:\n",
    "        n += 1\n",
    "    \n",
    "    return a*(10**n) + b + d*(10**int(n/2))\n",
    "\n",
    "print(kmulti(123456, 237985))"
   ]
  },
  {
   "cell_type": "code",
   "execution_count": null,
   "metadata": {},
   "outputs": [],
   "source": []
  }
 ],
 "metadata": {
  "kernelspec": {
   "display_name": "Python 3",
   "language": "python",
   "name": "python3"
  },
  "language_info": {
   "codemirror_mode": {
    "name": "ipython",
    "version": 3
   },
   "file_extension": ".py",
   "mimetype": "text/x-python",
   "name": "python",
   "nbconvert_exporter": "python",
   "pygments_lexer": "ipython3",
   "version": "3.7.1"
  }
 },
 "nbformat": 4,
 "nbformat_minor": 2
}
