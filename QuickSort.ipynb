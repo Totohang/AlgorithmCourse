{
 "cells": [
  {
   "cell_type": "code",
   "execution_count": 13,
   "metadata": {},
   "outputs": [
    {
     "data": {
      "text/plain": [
       "[1, 2, 3, 4, 5]"
      ]
     },
     "execution_count": 13,
     "metadata": {},
     "output_type": "execute_result"
    }
   ],
   "source": [
    "def setPivot(a_list, l, r):\n",
    "    p = l\n",
    "    return p\n",
    "\n",
    "def Partition(a_list, p, l, r):\n",
    "    #swap pivot to 1st position if p is not l\n",
    "    if p != l:\n",
    "        a_list[l], a_list[p] = a_list[p], a_list[l]\n",
    "    \n",
    "    i = l + 1 # the position between less than pivot and larger than pivot\n",
    "    j = l + 1 # the position between partitioned and unpartitioned\n",
    "    while j <= r : # while j not in the last element\n",
    "        if a_list[j] < a_list[l]:\n",
    "            # swap with ith element\n",
    "            a_list[j], a_list[i] = a_list[i], a_list[j]\n",
    "            i += 1\n",
    "            j += 1\n",
    "        else: \n",
    "            j += 1\n",
    "    \n",
    "    #check bound\n",
    "    bound = i - 1\n",
    "    \n",
    "    #swap pivot with (i-1)th element\n",
    "    a_list[i-1], a_list[l] = a_list[l], a_list[i-1]\n",
    "    \n",
    "    return bound\n",
    "    \n",
    "def quickSort(a_list, l, r):\n",
    "    if l >= r:\n",
    "        return\n",
    "    \n",
    "    p = setPivot(a_list, l, r)\n",
    "    \n",
    "    bound = Partition(a_list, p, l, r)\n",
    "    \n",
    "    #recursively on left half and right half\n",
    "    quickSort(a_list, l, bound-1)\n",
    "    quickSort(a_list, bound+1, r)\n",
    "\n",
    "a = [1, 2, 3, 4, 5]\n",
    "quickSort(a, 0, len(a)-1)\n",
    "a"
   ]
  },
  {
   "cell_type": "code",
   "execution_count": null,
   "metadata": {},
   "outputs": [],
   "source": []
  }
 ],
 "metadata": {
  "kernelspec": {
   "display_name": "Python 3",
   "language": "python",
   "name": "python3"
  },
  "language_info": {
   "codemirror_mode": {
    "name": "ipython",
    "version": 3
   },
   "file_extension": ".py",
   "mimetype": "text/x-python",
   "name": "python",
   "nbconvert_exporter": "python",
   "pygments_lexer": "ipython3",
   "version": "3.7.1"
  }
 },
 "nbformat": 4,
 "nbformat_minor": 2
}
