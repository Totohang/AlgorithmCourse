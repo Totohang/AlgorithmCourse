{
 "cells": [
  {
   "cell_type": "code",
   "execution_count": 16,
   "metadata": {},
   "outputs": [
    {
     "name": "stdout",
     "output_type": "stream",
     "text": [
      "([1, 2, 3, 4, 5, 6, 7, 8, 9], 36)\n"
     ]
    }
   ],
   "source": [
    "def merge_and_find(a, b):\n",
    "    \n",
    "    i = 0\n",
    "    j = 0\n",
    "    n = 0\n",
    "    inv = 0\n",
    "    c = []\n",
    "    \n",
    "    while i < len(a) and j < len(b):\n",
    "        if a[i] <= b[j]:\n",
    "            c.append(a[i])\n",
    "            i += 1\n",
    "        else:\n",
    "            c.append(b[j])\n",
    "            j += 1\n",
    "            inv += (len(a) - i)\n",
    "    \n",
    "    if i == len(a):\n",
    "        while j < len(b):\n",
    "            c.append(b[j])\n",
    "            j += 1\n",
    "    else:   #if right list exhausted\n",
    "        while i < len(a):\n",
    "            c.append(a[i])\n",
    "            i += 1\n",
    "    \n",
    "    return c, inv\n",
    "\n",
    "def invCount(a_list):\n",
    "    #split the list in half\n",
    "    \n",
    "    n = len(a_list)\n",
    "    if n <= 1:\n",
    "        return a_list, 0\n",
    "    elif n % 2 == 0:\n",
    "        lt_list = a_list[:int(n/2)]\n",
    "        rt_list = a_list[int(n/2):]\n",
    "    else:\n",
    "        lt_list = a_list[:int((n+1)/2)]\n",
    "        rt_list = a_list[int((n+1)/2):]\n",
    "    \n",
    "    m_lt, lt_inv = invCount(lt_list)\n",
    "    m_rt, rt_inv = invCount(rt_list)\n",
    "    mg_list, splt_inv = merge_and_find(m_lt, m_rt)\n",
    "    \n",
    "    total_inv = lt_inv + rt_inv + splt_inv\n",
    "    \n",
    "    return mg_list, total_inv\n",
    "\n",
    "a = [9, 8, 7, 6, 5, 4, 3, 2, 1]\n",
    "print(invCount(a))"
   ]
  },
  {
   "cell_type": "code",
   "execution_count": null,
   "metadata": {},
   "outputs": [],
   "source": []
  }
 ],
 "metadata": {
  "kernelspec": {
   "display_name": "Python 3",
   "language": "python",
   "name": "python3"
  },
  "language_info": {
   "codemirror_mode": {
    "name": "ipython",
    "version": 3
   },
   "file_extension": ".py",
   "mimetype": "text/x-python",
   "name": "python",
   "nbconvert_exporter": "python",
   "pygments_lexer": "ipython3",
   "version": "3.7.1"
  }
 },
 "nbformat": 4,
 "nbformat_minor": 2
}
